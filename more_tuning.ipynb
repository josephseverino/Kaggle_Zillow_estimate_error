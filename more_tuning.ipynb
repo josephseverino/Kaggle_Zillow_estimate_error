{
 "cells": [
  {
   "cell_type": "code",
   "execution_count": 5,
   "metadata": {},
   "outputs": [],
   "source": [
    "import numpy as np\n",
    "import pandas as pd\n",
    "import matplotlib.pyplot as plt\n",
    "import seaborn as sns\n",
    "from sklearn import linear_model\n",
    "from statistics import mean, stdev\n",
    "from sklearn.preprocessing import scale \n",
    "import math\n",
    "import warnings\n",
    "warnings.filterwarnings(\"ignore\")\n",
    "import random\n",
    "import datetime\n",
    "from sklearn.ensemble import RandomForestRegressor\n",
    "from sklearn.model_selection import GridSearchCV\n",
    "import xgboost as xgb\n",
    "import json\n",
    "import urllib.parse\n",
    "import requests\n",
    "import glob\n",
    "from sklearn.model_selection import train_test_split\n",
    "from sklearn import metrics\n",
    "from sklearn.metrics import mean_squared_error\n",
    "from sklearn.feature_selection import SelectFromModel\n",
    "from tqdm import tqdm\n",
    "from sklearn.model_selection import ParameterGrid"
   ]
  },
  {
   "cell_type": "code",
   "execution_count": 6,
   "metadata": {},
   "outputs": [],
   "source": [
    "train = pd.read_csv(\"train_sub_df.csv\")   \n",
    "test = pd.read_csv(\"test_sub_df.csv\")  "
   ]
  },
  {
   "cell_type": "code",
   "execution_count": 3,
   "metadata": {},
   "outputs": [
    {
     "data": {
      "text/html": [
       "<div>\n",
       "<style scoped>\n",
       "    .dataframe tbody tr th:only-of-type {\n",
       "        vertical-align: middle;\n",
       "    }\n",
       "\n",
       "    .dataframe tbody tr th {\n",
       "        vertical-align: top;\n",
       "    }\n",
       "\n",
       "    .dataframe thead th {\n",
       "        text-align: right;\n",
       "    }\n",
       "</style>\n",
       "<table border=\"1\" class=\"dataframe\">\n",
       "  <thead>\n",
       "    <tr style=\"text-align: right;\">\n",
       "      <th></th>\n",
       "      <th>Unnamed: 0</th>\n",
       "      <th>parcelid</th>\n",
       "      <th>logerror</th>\n",
       "      <th>transactiondate</th>\n",
       "      <th>month</th>\n",
       "      <th>day</th>\n",
       "      <th>airconditioningtypeid</th>\n",
       "      <th>architecturalstyletypeid</th>\n",
       "      <th>basementsqft</th>\n",
       "      <th>bathroomcnt</th>\n",
       "      <th>...</th>\n",
       "      <th>structuretaxvaluedollarcnt</th>\n",
       "      <th>taxvaluedollarcnt</th>\n",
       "      <th>assessmentyear</th>\n",
       "      <th>landtaxvaluedollarcnt</th>\n",
       "      <th>taxamount</th>\n",
       "      <th>taxdelinquencyyear</th>\n",
       "      <th>censustractandblock</th>\n",
       "      <th>taxdelinquencyflag_Y</th>\n",
       "      <th>hashottuborspa_True</th>\n",
       "      <th>fireplaceflag_True</th>\n",
       "    </tr>\n",
       "  </thead>\n",
       "  <tbody>\n",
       "    <tr>\n",
       "      <th>0</th>\n",
       "      <td>0</td>\n",
       "      <td>11016594</td>\n",
       "      <td>0.0276</td>\n",
       "      <td>2016-01-01</td>\n",
       "      <td>1</td>\n",
       "      <td>Friday</td>\n",
       "      <td>1.0</td>\n",
       "      <td>-1.0</td>\n",
       "      <td>-1.0</td>\n",
       "      <td>2.0</td>\n",
       "      <td>...</td>\n",
       "      <td>122754.0</td>\n",
       "      <td>360170.0</td>\n",
       "      <td>2015.0</td>\n",
       "      <td>237416.0</td>\n",
       "      <td>6735.88</td>\n",
       "      <td>-1.0</td>\n",
       "      <td>6.037107e+13</td>\n",
       "      <td>0</td>\n",
       "      <td>0</td>\n",
       "      <td>0</td>\n",
       "    </tr>\n",
       "    <tr>\n",
       "      <th>1</th>\n",
       "      <td>1</td>\n",
       "      <td>14366692</td>\n",
       "      <td>-0.1684</td>\n",
       "      <td>2016-01-01</td>\n",
       "      <td>1</td>\n",
       "      <td>Friday</td>\n",
       "      <td>-1.0</td>\n",
       "      <td>-1.0</td>\n",
       "      <td>-1.0</td>\n",
       "      <td>3.5</td>\n",
       "      <td>...</td>\n",
       "      <td>346458.0</td>\n",
       "      <td>585529.0</td>\n",
       "      <td>2015.0</td>\n",
       "      <td>239071.0</td>\n",
       "      <td>10153.02</td>\n",
       "      <td>-1.0</td>\n",
       "      <td>-1.000000e+00</td>\n",
       "      <td>0</td>\n",
       "      <td>0</td>\n",
       "      <td>0</td>\n",
       "    </tr>\n",
       "    <tr>\n",
       "      <th>2</th>\n",
       "      <td>2</td>\n",
       "      <td>12098116</td>\n",
       "      <td>-0.0040</td>\n",
       "      <td>2016-01-01</td>\n",
       "      <td>1</td>\n",
       "      <td>Friday</td>\n",
       "      <td>1.0</td>\n",
       "      <td>-1.0</td>\n",
       "      <td>-1.0</td>\n",
       "      <td>3.0</td>\n",
       "      <td>...</td>\n",
       "      <td>61994.0</td>\n",
       "      <td>119906.0</td>\n",
       "      <td>2015.0</td>\n",
       "      <td>57912.0</td>\n",
       "      <td>11484.48</td>\n",
       "      <td>-1.0</td>\n",
       "      <td>6.037464e+13</td>\n",
       "      <td>0</td>\n",
       "      <td>0</td>\n",
       "      <td>0</td>\n",
       "    </tr>\n",
       "    <tr>\n",
       "      <th>3</th>\n",
       "      <td>3</td>\n",
       "      <td>12643413</td>\n",
       "      <td>0.0218</td>\n",
       "      <td>2016-01-02</td>\n",
       "      <td>1</td>\n",
       "      <td>Saturday</td>\n",
       "      <td>1.0</td>\n",
       "      <td>-1.0</td>\n",
       "      <td>-1.0</td>\n",
       "      <td>2.0</td>\n",
       "      <td>...</td>\n",
       "      <td>171518.0</td>\n",
       "      <td>244880.0</td>\n",
       "      <td>2015.0</td>\n",
       "      <td>73362.0</td>\n",
       "      <td>3048.74</td>\n",
       "      <td>-1.0</td>\n",
       "      <td>6.037296e+13</td>\n",
       "      <td>0</td>\n",
       "      <td>0</td>\n",
       "      <td>0</td>\n",
       "    </tr>\n",
       "    <tr>\n",
       "      <th>4</th>\n",
       "      <td>4</td>\n",
       "      <td>14432541</td>\n",
       "      <td>-0.0050</td>\n",
       "      <td>2016-01-02</td>\n",
       "      <td>1</td>\n",
       "      <td>Saturday</td>\n",
       "      <td>-1.0</td>\n",
       "      <td>-1.0</td>\n",
       "      <td>-1.0</td>\n",
       "      <td>2.5</td>\n",
       "      <td>...</td>\n",
       "      <td>169574.0</td>\n",
       "      <td>434551.0</td>\n",
       "      <td>2015.0</td>\n",
       "      <td>264977.0</td>\n",
       "      <td>5488.96</td>\n",
       "      <td>-1.0</td>\n",
       "      <td>6.059042e+13</td>\n",
       "      <td>0</td>\n",
       "      <td>0</td>\n",
       "      <td>0</td>\n",
       "    </tr>\n",
       "  </tbody>\n",
       "</table>\n",
       "<p>5 rows × 57 columns</p>\n",
       "</div>"
      ],
      "text/plain": [
       "   Unnamed: 0  parcelid  logerror transactiondate  month       day  \\\n",
       "0           0  11016594    0.0276      2016-01-01      1    Friday   \n",
       "1           1  14366692   -0.1684      2016-01-01      1    Friday   \n",
       "2           2  12098116   -0.0040      2016-01-01      1    Friday   \n",
       "3           3  12643413    0.0218      2016-01-02      1  Saturday   \n",
       "4           4  14432541   -0.0050      2016-01-02      1  Saturday   \n",
       "\n",
       "   airconditioningtypeid  architecturalstyletypeid  basementsqft  bathroomcnt  \\\n",
       "0                    1.0                      -1.0          -1.0          2.0   \n",
       "1                   -1.0                      -1.0          -1.0          3.5   \n",
       "2                    1.0                      -1.0          -1.0          3.0   \n",
       "3                    1.0                      -1.0          -1.0          2.0   \n",
       "4                   -1.0                      -1.0          -1.0          2.5   \n",
       "\n",
       "          ...          structuretaxvaluedollarcnt  taxvaluedollarcnt  \\\n",
       "0         ...                            122754.0           360170.0   \n",
       "1         ...                            346458.0           585529.0   \n",
       "2         ...                             61994.0           119906.0   \n",
       "3         ...                            171518.0           244880.0   \n",
       "4         ...                            169574.0           434551.0   \n",
       "\n",
       "   assessmentyear  landtaxvaluedollarcnt  taxamount  taxdelinquencyyear  \\\n",
       "0          2015.0               237416.0    6735.88                -1.0   \n",
       "1          2015.0               239071.0   10153.02                -1.0   \n",
       "2          2015.0                57912.0   11484.48                -1.0   \n",
       "3          2015.0                73362.0    3048.74                -1.0   \n",
       "4          2015.0               264977.0    5488.96                -1.0   \n",
       "\n",
       "   censustractandblock  taxdelinquencyflag_Y  hashottuborspa_True  \\\n",
       "0         6.037107e+13                     0                    0   \n",
       "1        -1.000000e+00                     0                    0   \n",
       "2         6.037464e+13                     0                    0   \n",
       "3         6.037296e+13                     0                    0   \n",
       "4         6.059042e+13                     0                    0   \n",
       "\n",
       "   fireplaceflag_True  \n",
       "0                   0  \n",
       "1                   0  \n",
       "2                   0  \n",
       "3                   0  \n",
       "4                   0  \n",
       "\n",
       "[5 rows x 57 columns]"
      ]
     },
     "execution_count": 3,
     "metadata": {},
     "output_type": "execute_result"
    }
   ],
   "source": [
    "train.head(5)"
   ]
  },
  {
   "cell_type": "code",
   "execution_count": 4,
   "metadata": {},
   "outputs": [
    {
     "data": {
      "text/html": [
       "<div>\n",
       "<style scoped>\n",
       "    .dataframe tbody tr th:only-of-type {\n",
       "        vertical-align: middle;\n",
       "    }\n",
       "\n",
       "    .dataframe tbody tr th {\n",
       "        vertical-align: top;\n",
       "    }\n",
       "\n",
       "    .dataframe thead th {\n",
       "        text-align: right;\n",
       "    }\n",
       "</style>\n",
       "<table border=\"1\" class=\"dataframe\">\n",
       "  <thead>\n",
       "    <tr style=\"text-align: right;\">\n",
       "      <th></th>\n",
       "      <th>Unnamed: 0</th>\n",
       "      <th>ParcelId</th>\n",
       "      <th>201610</th>\n",
       "      <th>201611</th>\n",
       "      <th>201612</th>\n",
       "      <th>201710</th>\n",
       "      <th>201711</th>\n",
       "      <th>201712</th>\n",
       "      <th>parcelid</th>\n",
       "      <th>airconditioningtypeid</th>\n",
       "      <th>...</th>\n",
       "      <th>structuretaxvaluedollarcnt</th>\n",
       "      <th>taxvaluedollarcnt</th>\n",
       "      <th>assessmentyear</th>\n",
       "      <th>landtaxvaluedollarcnt</th>\n",
       "      <th>taxamount</th>\n",
       "      <th>taxdelinquencyyear</th>\n",
       "      <th>censustractandblock</th>\n",
       "      <th>taxdelinquencyflag_Y</th>\n",
       "      <th>hashottuborspa_True</th>\n",
       "      <th>fireplaceflag_True</th>\n",
       "    </tr>\n",
       "  </thead>\n",
       "  <tbody>\n",
       "    <tr>\n",
       "      <th>0</th>\n",
       "      <td>0</td>\n",
       "      <td>10754147</td>\n",
       "      <td>0</td>\n",
       "      <td>0</td>\n",
       "      <td>0</td>\n",
       "      <td>0</td>\n",
       "      <td>0</td>\n",
       "      <td>0</td>\n",
       "      <td>10754147</td>\n",
       "      <td>-1.0</td>\n",
       "      <td>...</td>\n",
       "      <td>-1.0</td>\n",
       "      <td>9.0</td>\n",
       "      <td>2015.0</td>\n",
       "      <td>9.0</td>\n",
       "      <td>-1.00</td>\n",
       "      <td>-1.0</td>\n",
       "      <td>-1.0</td>\n",
       "      <td>0</td>\n",
       "      <td>0</td>\n",
       "      <td>0</td>\n",
       "    </tr>\n",
       "    <tr>\n",
       "      <th>1</th>\n",
       "      <td>1</td>\n",
       "      <td>10759547</td>\n",
       "      <td>0</td>\n",
       "      <td>0</td>\n",
       "      <td>0</td>\n",
       "      <td>0</td>\n",
       "      <td>0</td>\n",
       "      <td>0</td>\n",
       "      <td>10759547</td>\n",
       "      <td>-1.0</td>\n",
       "      <td>...</td>\n",
       "      <td>-1.0</td>\n",
       "      <td>27516.0</td>\n",
       "      <td>2015.0</td>\n",
       "      <td>27516.0</td>\n",
       "      <td>-1.00</td>\n",
       "      <td>-1.0</td>\n",
       "      <td>-1.0</td>\n",
       "      <td>0</td>\n",
       "      <td>0</td>\n",
       "      <td>0</td>\n",
       "    </tr>\n",
       "    <tr>\n",
       "      <th>2</th>\n",
       "      <td>2</td>\n",
       "      <td>10843547</td>\n",
       "      <td>0</td>\n",
       "      <td>0</td>\n",
       "      <td>0</td>\n",
       "      <td>0</td>\n",
       "      <td>0</td>\n",
       "      <td>0</td>\n",
       "      <td>10843547</td>\n",
       "      <td>-1.0</td>\n",
       "      <td>...</td>\n",
       "      <td>650756.0</td>\n",
       "      <td>1413387.0</td>\n",
       "      <td>2015.0</td>\n",
       "      <td>762631.0</td>\n",
       "      <td>20800.37</td>\n",
       "      <td>-1.0</td>\n",
       "      <td>-1.0</td>\n",
       "      <td>0</td>\n",
       "      <td>0</td>\n",
       "      <td>0</td>\n",
       "    </tr>\n",
       "    <tr>\n",
       "      <th>3</th>\n",
       "      <td>3</td>\n",
       "      <td>10859147</td>\n",
       "      <td>0</td>\n",
       "      <td>0</td>\n",
       "      <td>0</td>\n",
       "      <td>0</td>\n",
       "      <td>0</td>\n",
       "      <td>0</td>\n",
       "      <td>10859147</td>\n",
       "      <td>-1.0</td>\n",
       "      <td>...</td>\n",
       "      <td>571346.0</td>\n",
       "      <td>1156834.0</td>\n",
       "      <td>2015.0</td>\n",
       "      <td>585488.0</td>\n",
       "      <td>14557.57</td>\n",
       "      <td>-1.0</td>\n",
       "      <td>-1.0</td>\n",
       "      <td>0</td>\n",
       "      <td>0</td>\n",
       "      <td>0</td>\n",
       "    </tr>\n",
       "    <tr>\n",
       "      <th>4</th>\n",
       "      <td>4</td>\n",
       "      <td>10879947</td>\n",
       "      <td>0</td>\n",
       "      <td>0</td>\n",
       "      <td>0</td>\n",
       "      <td>0</td>\n",
       "      <td>0</td>\n",
       "      <td>0</td>\n",
       "      <td>10879947</td>\n",
       "      <td>-1.0</td>\n",
       "      <td>...</td>\n",
       "      <td>193796.0</td>\n",
       "      <td>433491.0</td>\n",
       "      <td>2015.0</td>\n",
       "      <td>239695.0</td>\n",
       "      <td>5725.17</td>\n",
       "      <td>-1.0</td>\n",
       "      <td>-1.0</td>\n",
       "      <td>0</td>\n",
       "      <td>0</td>\n",
       "      <td>0</td>\n",
       "    </tr>\n",
       "  </tbody>\n",
       "</table>\n",
       "<p>5 rows × 60 columns</p>\n",
       "</div>"
      ],
      "text/plain": [
       "   Unnamed: 0  ParcelId  201610  201611  201612  201710  201711  201712  \\\n",
       "0           0  10754147       0       0       0       0       0       0   \n",
       "1           1  10759547       0       0       0       0       0       0   \n",
       "2           2  10843547       0       0       0       0       0       0   \n",
       "3           3  10859147       0       0       0       0       0       0   \n",
       "4           4  10879947       0       0       0       0       0       0   \n",
       "\n",
       "   parcelid  airconditioningtypeid         ...          \\\n",
       "0  10754147                   -1.0         ...           \n",
       "1  10759547                   -1.0         ...           \n",
       "2  10843547                   -1.0         ...           \n",
       "3  10859147                   -1.0         ...           \n",
       "4  10879947                   -1.0         ...           \n",
       "\n",
       "   structuretaxvaluedollarcnt  taxvaluedollarcnt  assessmentyear  \\\n",
       "0                        -1.0                9.0          2015.0   \n",
       "1                        -1.0            27516.0          2015.0   \n",
       "2                    650756.0          1413387.0          2015.0   \n",
       "3                    571346.0          1156834.0          2015.0   \n",
       "4                    193796.0           433491.0          2015.0   \n",
       "\n",
       "   landtaxvaluedollarcnt  taxamount  taxdelinquencyyear  censustractandblock  \\\n",
       "0                    9.0      -1.00                -1.0                 -1.0   \n",
       "1                27516.0      -1.00                -1.0                 -1.0   \n",
       "2               762631.0   20800.37                -1.0                 -1.0   \n",
       "3               585488.0   14557.57                -1.0                 -1.0   \n",
       "4               239695.0    5725.17                -1.0                 -1.0   \n",
       "\n",
       "   taxdelinquencyflag_Y  hashottuborspa_True  fireplaceflag_True  \n",
       "0                     0                    0                   0  \n",
       "1                     0                    0                   0  \n",
       "2                     0                    0                   0  \n",
       "3                     0                    0                   0  \n",
       "4                     0                    0                   0  \n",
       "\n",
       "[5 rows x 60 columns]"
      ]
     },
     "execution_count": 4,
     "metadata": {},
     "output_type": "execute_result"
    }
   ],
   "source": [
    "test.head(5)"
   ]
  },
  {
   "cell_type": "code",
   "execution_count": 5,
   "metadata": {},
   "outputs": [],
   "source": [
    "#delete non-important columns\n",
    "test_df = test.copy()\n",
    "train_df = train.copy()\n",
    "\n",
    "drop_test_cols = ['ParcelId','parcelid','Unnamed: 0',\n",
    "                 '201610','201611','201612','201710',\n",
    "                 '201711','201712']\n",
    "drop_train_cols = ['parcelid','Unnamed: 0','logerror',\n",
    "                  'transactiondate','month','day']\n",
    "train_y = train['logerror']\n",
    "test_df = test_df.drop(drop_test_cols,axis=1,inplace=False)\n",
    "train_df = train_df.drop(drop_train_cols,axis=1,inplace=False)\n",
    "\n",
    "test_df = test_df._get_numeric_data()\n",
    "train_df = train_df._get_numeric_data()\n",
    "\n",
    "col_names = train_df.columns.tolist()"
   ]
  },
  {
   "cell_type": "code",
   "execution_count": 6,
   "metadata": {},
   "outputs": [
    {
     "name": "stdout",
     "output_type": "stream",
     "text": [
      "(2985217, 49) (90275, 49)\n"
     ]
    }
   ],
   "source": [
    "print(test_df.shape, train_df.shape)"
   ]
  },
  {
   "cell_type": "code",
   "execution_count": 7,
   "metadata": {},
   "outputs": [],
   "source": [
    "X_train, X_test, y_train, y_test = train_test_split(\n",
    "     train_df, train_y, test_size=0.33, random_state=42)"
   ]
  },
  {
   "cell_type": "code",
   "execution_count": 8,
   "metadata": {},
   "outputs": [],
   "source": [
    "data_dmatrix = xgb.DMatrix(train_df,label=train_y)"
   ]
  },
  {
   "cell_type": "code",
   "execution_count": 18,
   "metadata": {},
   "outputs": [],
   "source": [
    "xg_reg = xgb.XGBRegressor(objective ='reg:linear',\n",
    "                          \n",
    "                          silent = 1,\n",
    "                          colsample_bytree = 0.8, \n",
    "                          learning_rate = 0.15,\n",
    "                          max_depth = 4, \n",
    "                          alpha = 10, \n",
    "                          subsample = .6,\n",
    "                          n_estimators = 900)"
   ]
  },
  {
   "cell_type": "code",
   "execution_count": 19,
   "metadata": {},
   "outputs": [],
   "source": [
    "xg_reg.fit(X_train,y_train)\n",
    "\n",
    "preds = xg_reg.predict(X_test)\n",
    "preds_train = xg_reg.predict(X_train)"
   ]
  },
  {
   "cell_type": "code",
   "execution_count": 20,
   "metadata": {},
   "outputs": [
    {
     "name": "stdout",
     "output_type": "stream",
     "text": [
      "RMSE TEST:  0.027723887422951506  RMSE TRAIN:  0.014179409046945566\n"
     ]
    }
   ],
   "source": [
    "mse_test = mean_squared_error(y_test, preds)\n",
    "mse_train = mean_squared_error(y_train, preds_train)\n",
    "print(\"RMSE TEST: \", mse_test, \" RMSE TRAIN: \",mse_train )"
   ]
  },
  {
   "cell_type": "code",
   "execution_count": 23,
   "metadata": {},
   "outputs": [
    {
     "data": {
      "image/png": "[encoded data removed]",
      "text/plain": [
       "<matplotlib.figure.Figure at 0x1a47a1b940>"
      ]
     },
     "metadata": {},
     "output_type": "display_data"
    }
   ],
   "source": [
    "sns.set()\n",
    "\n",
    "plt.scatter(y_train, preds_train,color=\"#3c7ee8\", label=\"Train Preds\",alpha=.9)\n",
    "plt.scatter(y_test, preds,color=\"#f2b035\", label=\"Test Preds\",alpha=.3)\n",
    "plt.xlabel(\"True Errors\")\n",
    "plt.ylabel(\"Predicted Errors\")\n",
    "plt.title(\"Simple Xgboost\")\n",
    "plt.legend()\n",
    "plt.show()\n",
    "\n",
    "# plt.grid()\n",
    "# plt.scatter(y_train, preds_train,color=\"#e8593a\",alpha=.6)\n",
    "# plt.scatter(y_test, preds,color=\"#42bcf4\",alpha=.6)\n",
    "# plt.show()"
   ]
  },
  {
   "cell_type": "code",
   "execution_count": null,
   "metadata": {},
   "outputs": [],
   "source": [
    "0.02605856091345577"
   ]
  },
  {
   "cell_type": "code",
   "execution_count": 103,
   "metadata": {},
   "outputs": [],
   "source": [
    "test_pred=xg_reg.predict(test_df)"
   ]
  },
  {
   "cell_type": "code",
   "execution_count": 104,
   "metadata": {},
   "outputs": [],
   "source": [
    "fudge_nov = 0.8879242828636326\n",
    "fudge_dec = 1.1701592749545944"
   ]
  },
  {
   "cell_type": "code",
   "execution_count": 105,
   "metadata": {},
   "outputs": [],
   "source": [
    "sample_sub = pd.read_csv(\"sample_submission.csv\")\n",
    "parc_id =np.array(sample_sub['ParcelId'])\n",
    "oct_col = np.around(np.array(test_pred),decimals=4)\n",
    "nov_col = np.around(fudge_nov * np.array(test_pred),decimals=4)\n",
    "dec_col = np.around(fudge_dec * np.array(test_pred),decimals=4)\n",
    "\n",
    "\n",
    "\n",
    "submit_df = pd.DataFrame({'ParcelId':parc_id,\n",
    "                          '201610':oct_col, '201611':nov_col,\n",
    "                          '201612':dec_col,'201710':oct_col, \n",
    "                          '201711':nov_col,'201712':dec_col})\n",
    "\n",
    "cols = submit_df.columns.tolist()\n",
    "cols = cols[-1:] + cols[:-1]\n",
    "submit_df = submit_df[cols]"
   ]
  },
  {
   "cell_type": "code",
   "execution_count": 106,
   "metadata": {},
   "outputs": [
    {
     "data": {
      "text/html": [
       "<div>\n",
       "<style scoped>\n",
       "    .dataframe tbody tr th:only-of-type {\n",
       "        vertical-align: middle;\n",
       "    }\n",
       "\n",
       "    .dataframe tbody tr th {\n",
       "        vertical-align: top;\n",
       "    }\n",
       "\n",
       "    .dataframe thead th {\n",
       "        text-align: right;\n",
       "    }\n",
       "</style>\n",
       "<table border=\"1\" class=\"dataframe\">\n",
       "  <thead>\n",
       "    <tr style=\"text-align: right;\">\n",
       "      <th></th>\n",
       "      <th>ParcelId</th>\n",
       "      <th>201610</th>\n",
       "      <th>201611</th>\n",
       "      <th>201612</th>\n",
       "      <th>201710</th>\n",
       "      <th>201711</th>\n",
       "      <th>201712</th>\n",
       "    </tr>\n",
       "  </thead>\n",
       "  <tbody>\n",
       "    <tr>\n",
       "      <th>0</th>\n",
       "      <td>10754147</td>\n",
       "      <td>0.0613</td>\n",
       "      <td>0.0544</td>\n",
       "      <td>0.0717</td>\n",
       "      <td>0.0613</td>\n",
       "      <td>0.0544</td>\n",
       "      <td>0.0717</td>\n",
       "    </tr>\n",
       "    <tr>\n",
       "      <th>1</th>\n",
       "      <td>10759547</td>\n",
       "      <td>0.0132</td>\n",
       "      <td>0.0117</td>\n",
       "      <td>0.0155</td>\n",
       "      <td>0.0132</td>\n",
       "      <td>0.0117</td>\n",
       "      <td>0.0155</td>\n",
       "    </tr>\n",
       "    <tr>\n",
       "      <th>2</th>\n",
       "      <td>10843547</td>\n",
       "      <td>0.1110</td>\n",
       "      <td>0.0986</td>\n",
       "      <td>0.1299</td>\n",
       "      <td>0.1110</td>\n",
       "      <td>0.0986</td>\n",
       "      <td>0.1299</td>\n",
       "    </tr>\n",
       "  </tbody>\n",
       "</table>\n",
       "</div>"
      ],
      "text/plain": [
       "   ParcelId  201610  201611  201612  201710  201711  201712\n",
       "0  10754147  0.0613  0.0544  0.0717  0.0613  0.0544  0.0717\n",
       "1  10759547  0.0132  0.0117  0.0155  0.0132  0.0117  0.0155\n",
       "2  10843547  0.1110  0.0986  0.1299  0.1110  0.0986  0.1299"
      ]
     },
     "execution_count": 106,
     "metadata": {},
     "output_type": "execute_result"
    }
   ],
   "source": [
    "submit_df.head(3)"
   ]
  },
  {
   "cell_type": "code",
   "execution_count": 107,
   "metadata": {},
   "outputs": [
    {
     "name": "stdout",
     "output_type": "stream",
     "text": [
      "Success!\n"
     ]
    }
   ],
   "source": [
    "# Give the filename you wish to save the file to\n",
    "\n",
    "filename1 = 'submission_file_xgb.csv'\n",
    "\n",
    "files_present_1 = glob.glob(filename1)\n",
    "\n",
    "if not files_present_1 or not files_present_2:\n",
    "    submit_df.to_csv(filename1,index = False)\n",
    "    print('Success!')\n",
    "else:\n",
    "    print('WARNING: This file already exists!' )"
   ]
  },
  {
   "cell_type": "code",
   "execution_count": 51,
   "metadata": {},
   "outputs": [
    {
     "name": "stdout",
     "output_type": "stream",
     "text": [
      "MSE test:   0.0259 \n",
      " MSE train:   0.0221\n"
     ]
    }
   ],
   "source": [
    "rf = RandomForestRegressor(n_estimators=500,\n",
    "                            max_features=6,\n",
    "                            max_depth=11,\n",
    "                            n_jobs=-1,\n",
    "                            random_state=42)\n",
    "\n",
    "# Train the classifier\n",
    "rf.fit(X_train, y_train)\n",
    "\n",
    "feature_imp = pd.Series(rf.feature_importances_,index=col_names).sort_values(ascending=False)\n",
    "target_pred=rf.predict(X_test)\n",
    "target_pred_train=rf.predict(X_train)\n",
    "test_err = round(metrics.mean_squared_error(y_test, target_pred),4)\n",
    "train_err = round(metrics.mean_squared_error(y_train, target_pred_train),4)\n",
    "print(\"MSE test:  \",test_err, '\\n',\n",
    "     \"MSE train:  \",train_err)"
   ]
  },
  {
   "cell_type": "code",
   "execution_count": 59,
   "metadata": {},
   "outputs": [
    {
     "name": "stdout",
     "output_type": "stream",
     "text": [
      "Thresh:  0.005  MSE test:  0.0259  MSE train:  0.021837\n",
      "Thresh:  0.006  MSE test:  0.0259  MSE train:  0.021837\n",
      "Thresh:  0.007  MSE test:  0.025902  MSE train:  0.021869\n",
      "Thresh:  0.008  MSE test:  0.02588  MSE train:  0.021965\n",
      "Thresh:  0.009000000000000001  MSE test:  0.025891  MSE train:  0.021826\n",
      "Thresh:  0.01  MSE test:  0.025887  MSE train:  0.021853\n",
      "Thresh:  0.011  MSE test:  0.025887  MSE train:  0.021853\n",
      "Thresh:  0.012  MSE test:  0.025842  MSE train:  0.021739\n",
      "Thresh:  0.013000000000000001  MSE test:  0.025847  MSE train:  0.021762\n",
      "Thresh:  0.014000000000000002  MSE test:  0.0258  MSE train:  0.02164\n",
      "Thresh:  0.015  MSE test:  0.0258  MSE train:  0.02164\n",
      "Thresh:  0.016  MSE test:  0.025846  MSE train:  0.021637\n",
      "Thresh:  0.017  MSE test:  0.025795  MSE train:  0.021567\n",
      "Thresh:  0.018000000000000002  MSE test:  0.025842  MSE train:  0.021354\n",
      "Thresh:  0.019  MSE test:  0.025842  MSE train:  0.021354\n"
     ]
    }
   ],
   "source": [
    "threshold = np.arange(.005,.02,.001)\n",
    "test_mse = []\n",
    "train_mse = []\n",
    "thresh = []\n",
    "for i in threshold:\n",
    "    sfm = SelectFromModel(rf, threshold=i)\n",
    "    sfm.fit(X_train, y_train)\n",
    "\n",
    "    feat_labels = X_train.columns.tolist()\n",
    "    imp_labels = []\n",
    "\n",
    "    for feature_list_index in sfm.get_support(indices=True):\n",
    "        imp_labels.append(feat_labels[feature_list_index])\n",
    "    \n",
    "    \n",
    "    rf = RandomForestRegressor(n_estimators=300,\n",
    "                                max_features=6,\n",
    "                                max_depth=11,\n",
    "                                n_jobs=-1,\n",
    "                                random_state=42)\n",
    "    rf.fit(X_train[imp_labels], y_train)\n",
    "\n",
    "    target_pred=rf.predict(X_test[imp_labels])\n",
    "    target_pred_train=rf.predict(X_train[imp_labels])\n",
    "    test_err = round(metrics.mean_squared_error(y_test, target_pred),6)\n",
    "    train_err = round(metrics.mean_squared_error(y_train, target_pred_train),6)\n",
    "    test_mse.append(test_err)\n",
    "    train_mse.append(train_err)\n",
    "    thresh.append(round(i,3))\n",
    "    print(\"Thresh: \",i, \" MSE test: \",test_err, \" MSE train: \",train_err)"
   ]
  },
  {
   "cell_type": "code",
   "execution_count": 61,
   "metadata": {},
   "outputs": [
    {
     "data": {
      "image/png": "[encoded data removed]",
      "text/plain": [
       "<matplotlib.figure.Figure at 0x1a2adb0898>"
      ]
     },
     "metadata": {
      "needs_background": "light"
     },
     "output_type": "display_data"
    }
   ],
   "source": [
    "plt.grid()\n",
    "plt.plot(thresh,test_mse, color='red')\n",
    "plt.plot(thresh,train_mse, color='green')\n",
    "plt.show()"
   ]
  },
  {
   "cell_type": "code",
   "execution_count": null,
   "metadata": {},
   "outputs": [],
   "source": [
    "#looks like .014"
   ]
  },
  {
   "cell_type": "code",
   "execution_count": 64,
   "metadata": {},
   "outputs": [
    {
     "name": "stdout",
     "output_type": "stream",
     "text": [
      "taxamount                       0.100613\n",
      "structuretaxvaluedollarcnt      0.088638\n",
      "latitude                        0.087816\n",
      "taxvaluedollarcnt               0.084052\n",
      "longitude                       0.079497\n",
      "calculatedfinishedsquarefeet    0.073474\n",
      "lotsizesquarefeet               0.073328\n",
      "landtaxvaluedollarcnt           0.067138\n",
      "finishedsquarefeet12            0.055705\n",
      "yearbuilt                       0.051836\n",
      "regionidzip                     0.046795\n",
      "censustractandblock             0.036156\n",
      "rawcensustractandblock          0.035628\n",
      "regionidcity                    0.024903\n",
      "regionidneighborhood            0.023857\n",
      "bedroomcnt                      0.023836\n",
      "calculatedbathnbr               0.015947\n",
      "bathroomcnt                     0.015694\n",
      "fullbathcnt                     0.015086\n",
      "dtype: float64\n",
      "Thresh:  0.014  MSE test:  0.0258  MSE train:  0.02164\n"
     ]
    }
   ],
   "source": [
    "best_thresh = .014\n",
    "sfm = SelectFromModel(rf, threshold=.014)\n",
    "sfm.fit(X_train, y_train)\n",
    "feat_labels = X_train.columns.tolist()\n",
    "imp_labels = []\n",
    "\n",
    "for feature_list_index in sfm.get_support(indices=True):\n",
    "    imp_labels.append(feat_labels[feature_list_index])\n",
    "    \n",
    "    \n",
    "rf = RandomForestRegressor(n_estimators=300,\n",
    "                                max_features=6,\n",
    "                                max_depth=11,\n",
    "                                n_jobs=-1,\n",
    "                                random_state=42)\n",
    "rf.fit(X_train[imp_labels], y_train)\n",
    "feature_imp = pd.Series(rf.feature_importances_,index=imp_labels).sort_values(ascending=False)\n",
    "print(feature_imp)\n",
    "\n",
    "target_pred=rf.predict(X_test[imp_labels])\n",
    "target_pred_train=rf.predict(X_train[imp_labels])\n",
    "test_err = round(metrics.mean_squared_error(y_test, target_pred),6)\n",
    "train_err = round(metrics.mean_squared_error(y_train, target_pred_train),6)\n",
    "\n",
    "print(\"Thresh: \",best_thresh, \" MSE test: \",test_err, \" MSE train: \",train_err)"
   ]
  },
  {
   "cell_type": "code",
   "execution_count": 68,
   "metadata": {},
   "outputs": [
    {
     "name": "stdout",
     "output_type": "stream",
     "text": [
      "Fitting 5 folds for each of 48 candidates, totalling 240 fits\n"
     ]
    },
    {
     "name": "stderr",
     "output_type": "stream",
     "text": [
      "[Parallel(n_jobs=-1)]: Using backend LokyBackend with 8 concurrent workers.\n",
      "[Parallel(n_jobs=-1)]: Done  25 tasks      | elapsed:  1.6min\n",
      "[Parallel(n_jobs=-1)]: Done 146 tasks      | elapsed: 20.7min\n",
      "[Parallel(n_jobs=-1)]: Done 240 out of 240 | elapsed: 49.7min finished\n"
     ]
    },
    {
     "data": {
      "text/plain": [
       "{'bootstrap': True,\n",
       " 'max_depth': 10,\n",
       " 'max_features': 2,\n",
       " 'n_estimators': 200,\n",
       " 'random_state': 42}"
      ]
     },
     "execution_count": 68,
     "metadata": {},
     "output_type": "execute_result"
    }
   ],
   "source": [
    "# Create the parameter grid based on the results of random search \n",
    "param_grid = {\n",
    "    'bootstrap': [True],\n",
    "    'max_depth': [10,20,30,40],\n",
    "    'max_features': [2, 3, 4],\n",
    "    'n_estimators': [100, 200, 300, 1000],\n",
    "    'random_state': [42]\n",
    "\n",
    "}\n",
    "# Create a based model\n",
    "rf = RandomForestRegressor()\n",
    "# Instantiate the grid search model\n",
    "grid_search = GridSearchCV(estimator = rf, param_grid = param_grid, \n",
    "                          cv = 5, n_jobs = -1, verbose = 2)\n",
    "\n",
    "grid_search.fit(X_train[imp_labels], y_train)\n",
    "grid_search.best_params_"
   ]
  },
  {
   "cell_type": "code",
   "execution_count": 69,
   "metadata": {},
   "outputs": [
    {
     "name": "stdout",
     "output_type": "stream",
     "text": [
      "taxamount                       0.087974\n",
      "structuretaxvaluedollarcnt      0.081034\n",
      "latitude                        0.080462\n",
      "taxvaluedollarcnt               0.080145\n",
      "calculatedfinishedsquarefeet    0.074701\n",
      "landtaxvaluedollarcnt           0.072906\n",
      "longitude                       0.068313\n",
      "lotsizesquarefeet               0.064147\n",
      "finishedsquarefeet12            0.060332\n",
      "yearbuilt                       0.050128\n",
      "regionidzip                     0.047883\n",
      "censustractandblock             0.044235\n",
      "rawcensustractandblock          0.043985\n",
      "bedroomcnt                      0.028465\n",
      "regionidneighborhood            0.026591\n",
      "calculatedbathnbr               0.025697\n",
      "regionidcity                    0.022993\n",
      "bathroomcnt                     0.021766\n",
      "fullbathcnt                     0.018244\n",
      "dtype: float64\n",
      "Thresh:  0.014  MSE test:  0.025856  MSE train:  0.021673\n"
     ]
    }
   ],
   "source": [
    "rf = RandomForestRegressor(n_estimators=200,\n",
    "                                max_features=2,\n",
    "                                max_depth=11,\n",
    "                                bootstrap=True,\n",
    "                                n_jobs=-1,\n",
    "                                random_state=42)\n",
    "rf.fit(X_train[imp_labels], y_train)\n",
    "feature_imp = pd.Series(rf.feature_importances_,index=imp_labels).sort_values(ascending=False)\n",
    "print(feature_imp)\n",
    "\n",
    "target_pred=rf.predict(X_test[imp_labels])\n",
    "target_pred_train=rf.predict(X_train[imp_labels])\n",
    "test_err = round(metrics.mean_squared_error(y_test, target_pred),6)\n",
    "train_err = round(metrics.mean_squared_error(y_train, target_pred_train),6)\n",
    "\n",
    "print(\"Thresh: \",best_thresh, \" MSE test: \",test_err, \" MSE train: \",train_err)"
   ]
  },
  {
   "cell_type": "code",
   "execution_count": 70,
   "metadata": {},
   "outputs": [],
   "source": [
    "test_pred=rf.predict(test_df[imp_labels])"
   ]
  },
  {
   "cell_type": "code",
   "execution_count": 71,
   "metadata": {},
   "outputs": [],
   "source": [
    "fudge_nov = 0.8879242828636326\n",
    "fudge_dec = 1.1701592749545944\n",
    "\n"
   ]
  },
  {
   "cell_type": "code",
   "execution_count": 100,
   "metadata": {},
   "outputs": [],
   "source": [
    "\n",
    "sample_sub = pd.read_csv(\"sample_submission.csv\")\n",
    "parc_id =np.array(sample_sub['ParcelId'])\n",
    "oct_col = np.around(np.array(test_pred),decimals=4)\n",
    "nov_col = np.around(fudge_nov * np.array(test_pred),decimals=4)\n",
    "dec_col = np.around(fudge_dec * np.array(test_pred),decimals=4)\n",
    "\n",
    "\n",
    "\n",
    "submit_df = pd.DataFrame({'ParcelId':parc_id,\n",
    "                          '201610':oct_col, '201611':nov_col,\n",
    "                          '201612':dec_col,'201710':oct_col, \n",
    "                          '201711':nov_col,'201712':dec_col})\n",
    "\n",
    "cols = submit_df.columns.tolist()\n",
    "cols = cols[-1:] + cols[:-1]\n",
    "submit_df = submit_df[cols]\n"
   ]
  },
  {
   "cell_type": "code",
   "execution_count": 101,
   "metadata": {},
   "outputs": [
    {
     "data": {
      "text/html": [
       "<div>\n",
       "<style scoped>\n",
       "    .dataframe tbody tr th:only-of-type {\n",
       "        vertical-align: middle;\n",
       "    }\n",
       "\n",
       "    .dataframe tbody tr th {\n",
       "        vertical-align: top;\n",
       "    }\n",
       "\n",
       "    .dataframe thead th {\n",
       "        text-align: right;\n",
       "    }\n",
       "</style>\n",
       "<table border=\"1\" class=\"dataframe\">\n",
       "  <thead>\n",
       "    <tr style=\"text-align: right;\">\n",
       "      <th></th>\n",
       "      <th>ParcelId</th>\n",
       "      <th>201610</th>\n",
       "      <th>201611</th>\n",
       "      <th>201612</th>\n",
       "      <th>201710</th>\n",
       "      <th>201711</th>\n",
       "      <th>201712</th>\n",
       "    </tr>\n",
       "  </thead>\n",
       "  <tbody>\n",
       "    <tr>\n",
       "      <th>0</th>\n",
       "      <td>10754147</td>\n",
       "      <td>0.2195</td>\n",
       "      <td>0.1949</td>\n",
       "      <td>0.2568</td>\n",
       "      <td>0.2195</td>\n",
       "      <td>0.1949</td>\n",
       "      <td>0.2568</td>\n",
       "    </tr>\n",
       "    <tr>\n",
       "      <th>1</th>\n",
       "      <td>10759547</td>\n",
       "      <td>0.1114</td>\n",
       "      <td>0.0989</td>\n",
       "      <td>0.1303</td>\n",
       "      <td>0.1114</td>\n",
       "      <td>0.0989</td>\n",
       "      <td>0.1303</td>\n",
       "    </tr>\n",
       "    <tr>\n",
       "      <th>2</th>\n",
       "      <td>10843547</td>\n",
       "      <td>0.0550</td>\n",
       "      <td>0.0488</td>\n",
       "      <td>0.0643</td>\n",
       "      <td>0.0550</td>\n",
       "      <td>0.0488</td>\n",
       "      <td>0.0643</td>\n",
       "    </tr>\n",
       "  </tbody>\n",
       "</table>\n",
       "</div>"
      ],
      "text/plain": [
       "   ParcelId  201610  201611  201612  201710  201711  201712\n",
       "0  10754147  0.2195  0.1949  0.2568  0.2195  0.1949  0.2568\n",
       "1  10759547  0.1114  0.0989  0.1303  0.1114  0.0989  0.1303\n",
       "2  10843547  0.0550  0.0488  0.0643  0.0550  0.0488  0.0643"
      ]
     },
     "execution_count": 101,
     "metadata": {},
     "output_type": "execute_result"
    }
   ],
   "source": [
    "submit_df.head(3)"
   ]
  },
  {
   "cell_type": "code",
   "execution_count": 102,
   "metadata": {},
   "outputs": [
    {
     "name": "stdout",
     "output_type": "stream",
     "text": [
      "Success!\n"
     ]
    }
   ],
   "source": [
    "# Give the filename you wish to save the file to\n",
    "\n",
    "filename1 = 'submission_file2.csv'\n",
    "\n",
    "files_present_1 = glob.glob(filename1)\n",
    "\n",
    "if not files_present_1 or not files_present_2:\n",
    "    submit_df.to_csv(filename1,index = False)\n",
    "    print('Success!')\n",
    "else:\n",
    "    print('WARNING: This file already exists!' )"
   ]
  },
  {
   "cell_type": "code",
   "execution_count": 109,
   "metadata": {},
   "outputs": [
    {
     "data": {
      "image/png": "[encoded data removed]",
      "text/plain": [
       "<matplotlib.figure.Figure at 0x1a2ea4b5f8>"
      ]
     },
     "metadata": {
      "needs_background": "light"
     },
     "output_type": "display_data"
    }
   ],
   "source": [
    "plt.grid()\n",
    "plt.scatter(y_train, target_pred_train,color=\"#e8593a\",alpha=.6)\n",
    "plt.scatter(y_test, target_pred,color=\"#42bcf4\",alpha=.6)\n",
    "plt.show()"
   ]
  },
  {
   "cell_type": "code",
   "execution_count": 12,
   "metadata": {},
   "outputs": [
    {
     "data": {
      "image/png": "[encoded data removed]",
      "text/plain": [
       "<matplotlib.figure.Figure at 0x1a1f573860>"
      ]
     },
     "metadata": {
      "needs_background": "light"
     },
     "output_type": "display_data"
    }
   ],
   "source": [
    "from matplotlib import pyplot\n",
    "from mpl_toolkits.mplot3d import Axes3D\n",
    "import random\n",
    "\n",
    "\n",
    "fig = pyplot.figure()\n",
    "ax = Axes3D(fig)\n",
    "\n",
    "sequence_containing_x_vals = train['longitude']\n",
    "sequence_containing_y_vals = train['longitude']\n",
    "sequence_containing_z_vals = train['logerror']\n",
    "\n",
    "\n",
    "ax.scatter(sequence_containing_x_vals, sequence_containing_y_vals, sequence_containing_z_vals)\n",
    "pyplot.show()"
   ]
  }
 ],
 "metadata": {
  "kernelspec": {
   "display_name": "Python [conda env:anaconda]",
   "language": "python",
   "name": "conda-env-anaconda-py"
  },
  "language_info": {
   "codemirror_mode": {
    "name": "ipython",
    "version": 3
   },
   "file_extension": ".py",
   "mimetype": "text/x-python",
   "name": "python",
   "nbconvert_exporter": "python",
   "pygments_lexer": "ipython3",
   "version": "3.5.6"
  }
 },
 "nbformat": 4,
 "nbformat_minor": 2
}
